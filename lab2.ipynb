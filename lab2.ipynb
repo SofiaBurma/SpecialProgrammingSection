{
 "cells": [
  {
   "cell_type": "markdown",
   "metadata": {},
   "source": [
    "# Lab2"
   ]
  },
  {
   "cell_type": "markdown",
   "metadata": {},
   "source": [
    "### 1. \n",
    "- Для кожної із адміністративних одиниць України завантажити тестові\n",
    "структуровані файли, що містять значення VHI-індексу. Ця процедура має бути\n",
    "автоматизована, параметром процедури має бути індекс (номер) області.\n",
    " - При зберіганні файлу до його імені потрібно додати дату та час завантаження.\n",
    "\n",
    "- Передбачити повторні запуски скрипту, довантаження нових даних та колізію\n",
    "даних;"
   ]
  },
  {
   "cell_type": "code",
   "execution_count": 2,
   "metadata": {},
   "outputs": [],
   "source": [
    "import urllib.request\n",
    "from datetime import datetime\n",
    "import os\n",
    "import glob\n",
    "import pandas as pd\n",
    "import re"
   ]
  },
  {
   "cell_type": "code",
   "execution_count": 3,
   "metadata": {},
   "outputs": [
    {
     "name": "stdout",
     "output_type": "stream",
     "text": [
      "The file already exists: 1\n",
      "The file already exists: 2\n",
      "The file already exists: 3\n",
      "The file already exists: 4\n",
      "The file already exists: 5\n",
      "The file already exists: 6\n",
      "The file already exists: 7\n",
      "The file already exists: 8\n",
      "The file already exists: 9\n",
      "The file already exists: 10\n",
      "The file already exists: 11\n",
      "The file already exists: 12\n",
      "The file already exists: 13\n",
      "The file already exists: 14\n",
      "The file already exists: 15\n",
      "The file already exists: 16\n",
      "The file already exists: 17\n",
      "The file already exists: 18\n",
      "The file already exists: 19\n",
      "The file already exists: 20\n",
      "The file already exists: 21\n",
      "The file already exists: 22\n",
      "The file already exists: 23\n",
      "The file already exists: 24\n",
      "The file already exists: 25\n",
      "The file already exists: 26\n",
      "The file already exists: 27\n",
      "The file already exists: 28\n"
     ]
    }
   ],
   "source": [
    "directory=\"./Data\"\n",
    "\n",
    "for i in range(1,29):\n",
    "    url=f'https://www.star.nesdis.noaa.gov/smcd/emb/vci/VH/get_TS_admin.php?country=UKR&provinceID={i}&year1=1981&year2=2024&type=Mean'.format()\n",
    "    \n",
    "    name=\"NOAA_ID\"+str(i)+\"*\"\n",
    "    if glob.glob(os.path.join(directory, name)):\n",
    "        print(\"The file already exists: \" + str(i))\n",
    "        continue\n",
    "    \n",
    "    now = datetime.now().strftime(\"%d%m%Y%H%M%S\")\n",
    "    \n",
    "    wp = urllib.request.urlopen(url)\n",
    "    text = wp.read()\n",
    "\n",
    "    filename = os.path.join(directory, 'NOAA_ID'+str(i)+'_'+now+'.csv')\n",
    "    out = open(filename,'wb')\n",
    "    out.write(text)\n",
    " \n",
    "    out.close()\n",
    "    print(f\"Downloaded file for {i} region\")"
   ]
  },
  {
   "cell_type": "markdown",
   "metadata": {},
   "source": [
    "### 2. Зчитати завантажені текстові файли у фрейм"
   ]
  },
  {
   "cell_type": "code",
   "execution_count": 4,
   "metadata": {},
   "outputs": [
    {
     "name": "stdout",
     "output_type": "stream",
     "text": [
      "       Year  Week    SMN     SMT    VCI    TCI    VHI  area\n",
      "0      1982   1.0  0.059  258.24  51.11  48.78  49.95    10\n",
      "1      1982   2.0  0.063  261.53  55.89  38.20  47.04    10\n",
      "2      1982   3.0  0.063  263.45  57.30  32.69  44.99    10\n",
      "3      1982   4.0  0.061  265.10  53.96  28.62  41.29    10\n",
      "4      1982   5.0  0.058  266.42  46.87  28.57  37.72    10\n",
      "...     ...   ...    ...     ...    ...    ...    ...   ...\n",
      "60923  2024  38.0  0.164  300.27  26.53  11.33  18.95     9\n",
      "60924  2024  39.0  0.158  298.55  28.21  10.60  19.43     9\n",
      "60925  2024  40.0  0.153  296.53  30.42  11.37  20.91     9\n",
      "60926  2024  41.0  0.147  294.02  32.65  12.27  22.49     9\n",
      "60927  2024  42.0  0.140  291.36  34.00  12.81  23.45     9\n",
      "\n",
      "[60928 rows x 8 columns]\n",
      "Year      int64\n",
      "Week    float64\n",
      "SMN     float64\n",
      "SMT     float64\n",
      "VCI     float64\n",
      "TCI     float64\n",
      "VHI     float64\n",
      "area      int64\n",
      "dtype: object\n"
     ]
    }
   ],
   "source": [
    "def reading_text_into_the_frame(directory):\n",
    "    \n",
    "    headers = ['Year', 'Week', 'SMN', 'SMT', 'VCI', 'TCI', 'VHI', 'empty']\n",
    "    all_df = []\n",
    "    fnames = os.listdir(directory)\n",
    "   \n",
    "    for fname in fnames:\n",
    "        \n",
    "        if fname.startswith(\"NOAA\") and fname.endswith(\".csv\"):\n",
    "            \n",
    "            file_path = os.path.join(directory, fname)\n",
    "            df = pd.read_csv(file_path, header=1, names=headers)\n",
    "            df =df.drop(columns=['empty']).dropna()\n",
    "            df = df.drop(df.loc[df['VHI'] == -1].index)\n",
    "            \n",
    "            i = int(re.search(r'\\d+', fname).group())\n",
    "            df['area'] = i\n",
    "            \n",
    "            df.loc[0, 'Year'] = df.loc[0,'Year'][9:]\n",
    "            \n",
    "            df['Year'] = df['Year'].astype(int)\n",
    "            \n",
    "            all_df.append(df)\n",
    "            \n",
    "    final_df = pd.concat(all_df, ignore_index=True)\n",
    "    \n",
    "    #final_df = final_df.drop(columns=['empty'])\n",
    "    print(final_df)\n",
    "    \n",
    "    print(final_df.dtypes)\n",
    "    \n",
    "    return(final_df)\n",
    "\n",
    "\n",
    "final_df = reading_text_into_the_frame(directory)"
   ]
  },
  {
   "cell_type": "markdown",
   "metadata": {},
   "source": [
    "### 3. Реалізувати окрему процедуру, яка змінить індекси областей, за англійською абеткою на наступні, за українською:"
   ]
  },
  {
   "cell_type": "code",
   "execution_count": 5,
   "metadata": {},
   "outputs": [
    {
     "name": "stdout",
     "output_type": "stream",
     "text": [
      "       Year  Week    SMN     SMT    VCI    TCI    VHI  area\n",
      "0      1982   1.0  0.059  258.24  51.11  48.78  49.95    21\n",
      "1      1982   2.0  0.063  261.53  55.89  38.20  47.04    21\n",
      "2      1982   3.0  0.063  263.45  57.30  32.69  44.99    21\n",
      "3      1982   4.0  0.061  265.10  53.96  28.62  41.29    21\n",
      "4      1982   5.0  0.058  266.42  46.87  28.57  37.72    21\n",
      "...     ...   ...    ...     ...    ...    ...    ...   ...\n",
      "60923  2024  38.0  0.164  300.27  26.53  11.33  18.95    20\n",
      "60924  2024  39.0  0.158  298.55  28.21  10.60  19.43    20\n",
      "60925  2024  40.0  0.153  296.53  30.42  11.37  20.91    20\n",
      "60926  2024  41.0  0.147  294.02  32.65  12.27  22.49    20\n",
      "60927  2024  42.0  0.140  291.36  34.00  12.81  23.45    20\n",
      "\n",
      "[60928 rows x 8 columns]\n"
     ]
    }
   ],
   "source": [
    "\n",
    "def change_index():\n",
    "    \n",
    "    \n",
    "    index_ch = {1:22, 2:24, 3:23, 4:25, 5:3, 6:4, 7:8, 8:19, 9:20,\n",
    "                10:21, 11:9, 12:9, 13:10,  14:11, 15:12, 16:13, 17:14,\n",
    "                18:15 ,19:16, 20:26, 21:17 ,22:18 ,23:6 ,24:1 ,25:2 ,26:7 ,27:5}\n",
    "    final_df[\"area\"] = final_df[\"area\"].replace(index_ch)\n",
    "    \n",
    "    print(final_df)\n",
    "\n",
    "change_index()\n"
   ]
  },
  {
   "cell_type": "markdown",
   "metadata": {},
   "source": [
    "### 4.1 Реалізувати ряд VHI для області за вказаний рік;\n",
    "    "
   ]
  },
  {
   "cell_type": "code",
   "execution_count": 6,
   "metadata": {},
   "outputs": [
    {
     "name": "stdout",
     "output_type": "stream",
     "text": [
      "       Year  area    VHI\n",
      "39521  1989     5  33.32\n",
      "39522  1989     5  33.05\n",
      "39523  1989     5  32.65\n",
      "39524  1989     5  32.23\n",
      "39525  1989     5  31.80\n",
      "39526  1989     5  31.74\n",
      "39527  1989     5  31.22\n",
      "39528  1989     5  31.46\n",
      "39529  1989     5  31.49\n",
      "39530  1989     5  32.73\n",
      "39531  1989     5  31.95\n",
      "39532  1989     5  35.84\n",
      "39533  1989     5  38.89\n",
      "39534  1989     5  40.15\n",
      "39535  1989     5  41.19\n",
      "39536  1989     5  42.73\n",
      "39537  1989     5  45.27\n",
      "39538  1989     5  48.47\n",
      "39539  1989     5  52.03\n",
      "39540  1989     5  56.61\n",
      "39541  1989     5  55.63\n",
      "39542  1989     5  53.82\n",
      "39543  1989     5  52.72\n",
      "39544  1989     5  50.35\n",
      "39545  1989     5  49.60\n",
      "39546  1989     5  49.08\n",
      "39547  1989     5  47.55\n",
      "39548  1989     5  46.49\n",
      "39549  1989     5  45.26\n",
      "39550  1989     5  46.61\n",
      "39551  1989     5  45.93\n",
      "39552  1989     5  44.90\n",
      "39553  1989     5  46.33\n",
      "39554  1989     5  47.59\n",
      "39555  1989     5  49.14\n",
      "39556  1989     5  48.67\n",
      "39557  1989     5  46.55\n",
      "39558  1989     5  47.44\n",
      "39559  1989     5  47.00\n",
      "39560  1989     5  44.55\n",
      "39561  1989     5  41.43\n",
      "39562  1989     5  40.82\n",
      "39563  1989     5  42.28\n",
      "39564  1989     5  40.17\n",
      "39565  1989     5  35.55\n",
      "39566  1989     5  34.83\n",
      "39567  1989     5  35.76\n",
      "39568  1989     5  36.64\n",
      "39569  1989     5  36.03\n",
      "39570  1989     5  33.98\n",
      "39571  1989     5  33.06\n",
      "39572  1989     5  34.92\n"
     ]
    }
   ],
   "source": [
    "def vhi_region(index, year):\n",
    "    return final_df[(final_df['area'] == index) & (final_df[\"Year\"] == year)][['Year','area','VHI']]\n",
    "\n",
    "print(vhi_region(5, 1989))"
   ]
  },
  {
   "cell_type": "markdown",
   "metadata": {},
   "source": [
    "### 4.2 Реалізувати пошук екстремумів (min та max) для вказаних областей та років, середнього, медіани;"
   ]
  },
  {
   "cell_type": "code",
   "execution_count": 7,
   "metadata": {},
   "outputs": [
    {
     "name": "stdout",
     "output_type": "stream",
     "text": [
      "Extremes: min-12.45, max-86.6, mean-43.05583569405099, min-41.57\n"
     ]
    }
   ],
   "source": [
    "def extremes(year, regions):\n",
    "    \n",
    "    data = final_df[(final_df['Year'].between(year[0],year[1]))&\n",
    "                    (final_df['area'].isin(regions))]\n",
    "    \n",
    "    min_v = data['VHI'].min()\n",
    "    max_v = data['VHI'].max()\n",
    "    mean_v = data['VHI'].mean()\n",
    "    median_v = data['VHI'].median()\n",
    "    \n",
    "    return(\"Extremes: min-\" + str(min_v) +\", max-\" + str(max_v) +\", mean-\" + str(mean_v) +\", min-\" + str(median_v))\n",
    "\n",
    "\n",
    "print(extremes([ 1984, 1990], [11, 14, 16]))\n",
    "    \n",
    "    "
   ]
  },
  {
   "cell_type": "markdown",
   "metadata": {},
   "source": [
    "### 4.3 Реалізувати ряд VHI за вказаний діапазон років для вказаних областей;"
   ]
  },
  {
   "cell_type": "code",
   "execution_count": 8,
   "metadata": {},
   "outputs": [
    {
     "name": "stdout",
     "output_type": "stream",
     "text": [
      "       Year  area    VHI\n",
      "52919  1995     4  19.36\n",
      "52918  1995     4  23.87\n",
      "52917  1995     4  27.10\n",
      "52916  1995     4  31.05\n",
      "52915  1995     4  35.81\n",
      "...     ...   ...    ...\n",
      "8973   1987    11  42.26\n",
      "8972   1987    11  45.26\n",
      "8971   1987    11  47.96\n",
      "8970   1987    11  49.05\n",
      "8953   1987    11  58.60\n",
      "\n",
      "[898 rows x 3 columns]\n"
     ]
    }
   ],
   "source": [
    "def sf_range(year, region):\n",
    "    \n",
    "    data = final_df[(final_df['Year'].between(year[0],year[1]))&\n",
    "                    (final_df['area'].isin(region))]\n",
    "    \n",
    "    f_data = data.sort_values(by='area')\n",
    "    \n",
    "    return f_data[['Year', 'area', 'VHI']]\n",
    "\n",
    "print(sf_range([1987, 1995], [4, 11]))\n"
   ]
  },
  {
   "cell_type": "markdown",
   "metadata": {},
   "source": [
    "### 4.4 Виявити роки, протягом яких екстремальні посухи торкнулися більше вказаного відсотка областей по Україні \n"
   ]
  },
  {
   "cell_type": "code",
   "execution_count": 9,
   "metadata": {},
   "outputs": [
    {
     "name": "stdout",
     "output_type": "stream",
     "text": [
      "5\n",
      "    Year        VHI  area\n",
      "0   1993   8.872000     4\n",
      "1   1993  14.080000    11\n",
      "2   2000  12.213333     1\n",
      "3   2000  10.436667     9\n",
      "4   2000  11.460000    19\n",
      "5   2000  12.415000    22\n",
      "6   2000  10.828571    26\n",
      "7   2007  12.641818     7\n",
      "8   2007   7.895000    13\n",
      "9   2007   8.114444    14\n",
      "10  2007  13.289091    20\n",
      "11  2007  14.008333    25\n"
     ]
    }
   ],
   "source": [
    "def droughts(percent):\n",
    "    \n",
    "    count = int((percent*25)/100)\n",
    "    print(count)\n",
    "    drought = final_df[final_df['VHI']<15]\n",
    "    count_of_region = drought.groupby(by='Year')['area'].count()\n",
    "    years_d = count_of_region[count_of_region > count].index\n",
    "    \n",
    "    drought_avg = drought[drought['Year'].isin(years_d)].groupby(['Year', 'area' ],as_index=False)['VHI'].mean()\n",
    "    \n",
    "    #return drought[drought['Year'].isin(years_d)][['Year', 'VHI', 'area']]\n",
    "    return drought_avg[['Year', 'VHI', 'area']]\n",
    "\n",
    "print(droughts(20))\n",
    "    "
   ]
  }
 ],
 "metadata": {
  "kernelspec": {
   "display_name": ".venv",
   "language": "python",
   "name": "python3"
  },
  "language_info": {
   "codemirror_mode": {
    "name": "ipython",
    "version": 3
   },
   "file_extension": ".py",
   "mimetype": "text/x-python",
   "name": "python",
   "nbconvert_exporter": "python",
   "pygments_lexer": "ipython3",
   "version": "3.12.6"
  }
 },
 "nbformat": 4,
 "nbformat_minor": 2
}
